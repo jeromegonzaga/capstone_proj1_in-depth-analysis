{
 "cells": [
  {
   "cell_type": "markdown",
   "metadata": {},
   "source": [
    "<a id=\"back_to_top\"></a>\n",
    "\n",
    "<span style=\"text-decoration:underline\">\n",
    "\n",
    "## Table of contents\n",
    "</span>\n",
    "\n",
    "This notebook has the following sections:\n",
    "1. [Import Packages](#import_packages)\n",
    "2. [Create DataFrames For Each Yelp Dataset](#create_dataframes)\n",
    "3. [The Big Question](#Code_To_Adjust)\n",
    "  - [Part 1: Number of Attributes Posted](#part_1)\n",
    "  - [Part 2: Number of Yelp Reviews](#part_2)\n",
    "  - [Part 3: Yelp Business Rating](#part_3)\n",
    "  - [Part 4: Quality of Posted Photos](#part_4)"
   ]
  },
  {
   "cell_type": "markdown",
   "metadata": {},
   "source": [
    "<span style=\"text-decoration:underline\">\n",
    "\n",
    "# Statistical Data Analysis:\n",
    "</span>\n",
    "\n",
    "- **Think of the following questions and apply them to your dataset:**\n",
    "  - **Are there variables that are particularly significant in terms of explaining the answer to your project question?**\n",
    "    - The following variables may be of interest to look into:\n",
    "      - Number of attributes posted on yelp for businesses\n",
    "      - Number of Yelp reviews that businesses received\n",
    "      - Yelp rating of businesses\n",
    "      - Quality of photos posted for a business\n",
    "  - **Are there significant differences between subgroups in your data that may be relevant to your project aim?**\n",
    "    - Two particular subgroups may be of interest to look into:\n",
    "      - Businesses that were positively rated by a user (User rating is 1 star or more than the business' Yelp rating)\n",
    "      - Businesses that were negatively rated by a user (User rating is less than 1 star or lesser than the business' Yelp rating)\n",
    "  - **Are there strong correlations between pairs of independent variables or between an independent and a dependent variable?**\n",
    "    - See the following parts for analysis of correlations between variables:\n",
    "      - [Part 1: Number of Attributes Posted](#part_1)\n",
    "      - [Part 2: Number of Yelp Reviews](#part_2)\n",
    "      - [Part 3: Yelp Business Rating](#part_3)\n",
    "      - [Part 4: Quality of Posted Photos](#part_4)\n",
    "  - **What are the most appropriate tests to use to analyze these relationships?**\n",
    "    - The most appropriate test to use to analyze these relationships is the T-test for the means of two independent samples of scores. There is a lot of information provided in the Yelp datasets to determine some oft he statistical properties with much certainty like the mean and standard deviation."
   ]
  },
  {
   "cell_type": "markdown",
   "metadata": {},
   "source": [
    "<a id=\"import_packages\"></a>\n",
    "\n",
    "[Back To Top](#back_to_top)\n",
    "<div class=\"alert alert-block alert-danger\">\n",
    "\n",
    "## Import necessary packages\n",
    "</div>"
   ]
  },
  {
   "cell_type": "code",
   "execution_count": 1,
   "metadata": {
    "code_folding": [
     0
    ]
   },
   "outputs": [],
   "source": [
    "# Start with loading all necessary libraries\n",
    "import numpy as np\n",
    "import pandas as pd\n",
    "from datetime import datetime, timedelta\n",
    "import string\n",
    "\n",
    "# Import file reading packages\n",
    "import json\n",
    "import ast\n",
    "\n",
    "from itertools import chain, starmap\n",
    "import nltk\n",
    "from nltk.corpus import stopwords\n",
    "\n",
    "# Import Visualization Packages\n",
    "import seaborn as sns\n",
    "import matplotlib.pyplot as plt\n",
    "from os import path\n",
    "\n",
    "import collections\n",
    "import pickle\n",
    "\n",
    "import scipy.stats\n",
    "import scipy.signal as signal\n",
    "import scipy.ndimage.filters as filters\n",
    "import scipy.special as special\n",
    "import scipy.optimize as optimize\n",
    "\n",
    "import skimage.io\n",
    "import skimage.transform\n",
    "\n",
    "import cv2\n",
    "\n",
    "import sys\n",
    "\n",
    "sys.path.append('/Users/jeromegonzaga/.local/lib/python3.7/site-packages')\n",
    "\n",
    "from libsvm import svmutil"
   ]
  },
  {
   "cell_type": "markdown",
   "metadata": {},
   "source": [
    "<div class=\"alert alert-block alert-danger\">\n",
    "\n",
    "## Methods to be used in analysis\n",
    "</div>"
   ]
  },
  {
   "cell_type": "code",
   "execution_count": 2,
   "metadata": {
    "code_folding": [
     0
    ]
   },
   "outputs": [],
   "source": [
    "# method to change string to another datatype, if necessary and if possible\n",
    "\n",
    "def str_to_other(string):\n",
    "\n",
    "    # Return a dictionary or list if string looks like a dictionary or list\n",
    "    try:\n",
    "        if isinstance(string, dict):\n",
    "            dictionary = string\n",
    "            return dictionary\n",
    "        else:\n",
    "            try:\n",
    "                dictionary = ast.literal_eval(string)\n",
    "                return dictionary\n",
    "            except:\n",
    "                pass\n",
    "    except:\n",
    "        pass\n",
    "\n",
    "    # Return an integer if string looks like an integer\n",
    "    try:\n",
    "        integer = int(string)\n",
    "        return integer\n",
    "    except:\n",
    "        pass\n",
    "\n",
    "    # Return a float if string looks like a float\n",
    "    try:\n",
    "        number = float(string)\n",
    "        return number\n",
    "\n",
    "    # Return a bool if string looks like a bool\n",
    "    except:\n",
    "        if string =='True' or string == 'true':\n",
    "            return True\n",
    "        elif string == 'False' or string == 'false':\n",
    "            return False\n",
    "        elif isinstance(string, bool):\n",
    "            return string\n",
    "\n",
    "    # If none of the above, return original string\n",
    "        else:\n",
    "            return string"
   ]
  },
  {
   "cell_type": "code",
   "execution_count": 3,
   "metadata": {},
   "outputs": [],
   "source": [
    "### Method to create the x and y arrays for a CDF plot\n",
    "\n",
    "def ecdf(data):\n",
    "    \"\"\"Compute ECDF for a one-dimensional array of measurements.\"\"\"\n",
    "    # Number of data points: n\n",
    "    n = len(data)\n",
    "\n",
    "    # x-data for the ECDF: x\n",
    "    x = np.sort(data)\n",
    "\n",
    "    # y-data for the ECDF: y\n",
    "    y = np.arange(1, n+1) / n\n",
    "\n",
    "    return x, y"
   ]
  },
  {
   "cell_type": "code",
   "execution_count": 4,
   "metadata": {
    "code_folding": [
     0
    ]
   },
   "outputs": [],
   "source": [
    "# Method to extract the column names of \n",
    "\n",
    "def columns_from_nested_dict(df_dict):\n",
    "\n",
    "    set_keys = []\n",
    "    temp_dict = str_to_other(df_dict)\n",
    "\n",
    "    for key in temp_dict:\n",
    "        value = str_to_other(temp_dict[key])\n",
    "        if isinstance(value, dict):\n",
    "            set_keys.append(key)\n",
    "            sub_keys = list(columns_from_nested_dict(value))\n",
    "            set_keys.append(sub_keys)\n",
    "        else:\n",
    "            pass\n",
    "        set_keys.append(key)\n",
    "    \n",
    "    return set_keys"
   ]
  },
  {
   "cell_type": "markdown",
   "metadata": {},
   "source": [
    "<a id=\"create_dataframes\"></a>\n",
    "\n",
    "[Back To Top](#back_to_top)\n",
    "\n",
    "## Create pandas DataFrames from each of the Yelp datasets"
   ]
  },
  {
   "cell_type": "code",
   "execution_count": 5,
   "metadata": {
    "code_folding": []
   },
   "outputs": [],
   "source": [
    "csv_filepath = '/Users/jeromegonzaga/Documents/Bootcamp/Capstone Project #1_assets/yelp_dataset/'\n",
    "csv_files = {'business':'business.csv', 'checkin':'checkin.csv', 'photo':'photo.csv',\\\n",
    "             'review':'review.csv', 'tip':'tip.csv', 'user':'user.csv'}"
   ]
  },
  {
   "cell_type": "code",
   "execution_count": 6,
   "metadata": {},
   "outputs": [
    {
     "name": "stderr",
     "output_type": "stream",
     "text": [
      "<string>:2: DtypeWarning: Columns (0) have mixed types. Specify dtype option on import or set low_memory=False.\n"
     ]
    },
    {
     "name": "stdout",
     "output_type": "stream",
     "text": [
      "CPU times: user 1min 20s, sys: 28.1 s, total: 1min 48s\n",
      "Wall time: 2min 3s\n"
     ]
    }
   ],
   "source": [
    "%%time\n",
    "df_business = pd.read_csv(csv_filepath + csv_files['business'])\n",
    "# df_photo = pd.read_csv(csv_filepath + csv_files['photo'], lineterminator='\\n')\n",
    "df_review = pd.read_csv(csv_filepath + csv_files['review'])\n",
    "# df_tip = pd.read_csv(csv_filepath + csv_files['tip'])\n",
    "df_user = pd.read_csv(csv_filepath + csv_files['user'], dtype = {'elite': str })\n",
    "# df_checkin = pd.read_csv(csv_filepath + csv_files['checkin'])"
   ]
  },
  {
   "cell_type": "code",
   "execution_count": 7,
   "metadata": {},
   "outputs": [],
   "source": [
    "# Drop rows where the 'hours' is blank, blank 'hours' most likely means the business closed down\n",
    "df_business = df_business[df_business['hours'].notnull()]"
   ]
  },
  {
   "cell_type": "code",
   "execution_count": 8,
   "metadata": {},
   "outputs": [],
   "source": [
    "# DataFrame of businesses and attributes\n",
    "df_business = df_business.fillna('')\n",
    "df_business = df_business.\\\n",
    "    drop(df_business.columns[df_business.columns.str.contains('Unnamed')], 1)\n",
    "df_business = df_business.reset_index().drop('index', axis=1)"
   ]
  },
  {
   "cell_type": "markdown",
   "metadata": {},
   "source": [
    "### Adjusting date format for some datasets"
   ]
  },
  {
   "cell_type": "code",
   "execution_count": 9,
   "metadata": {},
   "outputs": [],
   "source": [
    "time_format = '%Y-%m-%d %H:%M'\n",
    "df_review['datetime'] = pd.to_datetime(df_review['date'], format = time_format)"
   ]
  },
  {
   "cell_type": "markdown",
   "metadata": {},
   "source": [
    "### Columns available to analyze"
   ]
  },
  {
   "cell_type": "code",
   "execution_count": 10,
   "metadata": {},
   "outputs": [
    {
     "data": {
      "text/plain": [
       "Index(['business_id', 'name', 'address', 'city', 'state', 'postal_code',\n",
       "       'latitude', 'longitude', 'stars', 'review_count', 'is_open',\n",
       "       'attributes', 'categories', 'hours'],\n",
       "      dtype='object')"
      ]
     },
     "execution_count": 10,
     "metadata": {},
     "output_type": "execute_result"
    }
   ],
   "source": [
    "df_business.columns"
   ]
  },
  {
   "cell_type": "code",
   "execution_count": 11,
   "metadata": {},
   "outputs": [
    {
     "data": {
      "text/plain": [
       "Index(['Unnamed: 0', 'review_id', 'user_id', 'business_id', 'stars', 'useful',\n",
       "       'funny', 'cool', 'text', 'date', 'datetime'],\n",
       "      dtype='object')"
      ]
     },
     "execution_count": 11,
     "metadata": {},
     "output_type": "execute_result"
    }
   ],
   "source": [
    "df_review.columns"
   ]
  },
  {
   "cell_type": "code",
   "execution_count": 12,
   "metadata": {},
   "outputs": [
    {
     "data": {
      "text/plain": [
       "(6685902, 11)"
      ]
     },
     "execution_count": 12,
     "metadata": {},
     "output_type": "execute_result"
    }
   ],
   "source": [
    "df_review.shape"
   ]
  },
  {
   "cell_type": "code",
   "execution_count": 13,
   "metadata": {},
   "outputs": [
    {
     "data": {
      "text/plain": [
       "Index(['Unnamed: 0', 'user_id', 'name', 'review_count', 'yelping_since',\n",
       "       'useful', 'funny', 'cool', 'elite', 'friends', 'fans', 'average_stars',\n",
       "       'compliment_hot', 'compliment_more', 'compliment_profile',\n",
       "       'compliment_cute', 'compliment_list', 'compliment_note',\n",
       "       'compliment_plain', 'compliment_cool', 'compliment_funny',\n",
       "       'compliment_writer', 'compliment_photos'],\n",
       "      dtype='object')"
      ]
     },
     "execution_count": 13,
     "metadata": {},
     "output_type": "execute_result"
    }
   ],
   "source": [
    "df_user.columns"
   ]
  },
  {
   "cell_type": "markdown",
   "metadata": {},
   "source": [
    "[Back To Top](#back_to_top)"
   ]
  },
  {
   "cell_type": "markdown",
   "metadata": {},
   "source": [
    "# Things to note:\n",
    "- The more that a user posts reviews for businesses, the more review data there is to fit the ML model on, then the better the recommendations will get."
   ]
  },
  {
   "cell_type": "code",
   "execution_count": 14,
   "metadata": {
    "scrolled": true
   },
   "outputs": [],
   "source": [
    "# Extracting the user_id, text and stars column from df_review\n",
    "df_review_stars = df_review[['user_id','business_id', 'text', 'stars']]\n",
    "\n",
    "# get list of reviewers with the most amount of reviews, sorted by number of reviews in df_review\n",
    "list_users = df_review_stars[['user_id','stars']].groupby(['user_id']).count().\\\n",
    "    sort_values(by='stars', ascending=False).index"
   ]
  },
  {
   "cell_type": "code",
   "execution_count": 15,
   "metadata": {},
   "outputs": [
    {
     "name": "stdout",
     "output_type": "stream",
     "text": [
      "5.0      82\n",
      "4.0    1373\n",
      "3.0    2164\n",
      "2.0     449\n",
      "1.0      61\n",
      "Name: stars, dtype: int64\n"
     ]
    },
    {
     "data": {
      "image/png": "[encoded data removed]",
      "text/plain": [
       "<Figure size 432x288 with 1 Axes>"
      ]
     },
     "metadata": {
      "needs_background": "light"
     },
     "output_type": "display_data"
    }
   ],
   "source": [
    "# user of interest (this can be changed to any user)\n",
    "user_rank = 0\n",
    "user_id = list_users[user_rank]\n",
    "\n",
    "# get all the reviews from the user of interest\n",
    "review_stars = df_review_stars[df_review_stars['user_id']==user_id].reset_index().\\\n",
    "    drop('index', axis=1) #.query('stars>=1.0')\n",
    "print(review_stars['stars'].value_counts().sort_index(ascending=False))\n",
    "\n",
    "review_stars['stars'].value_counts().sort_index().plot(kind='bar',\n",
    "    title='Review Count Per Star Rating\\n(before resampling)');"
   ]
  },
  {
   "cell_type": "code",
   "execution_count": 16,
   "metadata": {},
   "outputs": [],
   "source": [
    "# Divide by star rating\n",
    "df_stars_5 = review_stars[review_stars['stars'] == 5]\n",
    "df_stars_4 = review_stars[review_stars['stars'] == 4]\n",
    "df_stars_3 = review_stars[review_stars['stars'] == 3]\n",
    "df_stars_2 = review_stars[review_stars['stars'] == 2]\n",
    "df_stars_1 = review_stars[review_stars['stars'] == 1]"
   ]
  },
  {
   "cell_type": "code",
   "execution_count": 17,
   "metadata": {},
   "outputs": [],
   "source": [
    "# create dataframes for sampling preprocessing\n",
    "def CreateSamplingDF(df, count):\n",
    "    if count == df.shape[0]:\n",
    "        # return unaltered dataframe\n",
    "        return df\n",
    "    else:\n",
    "        # return dataframe with randomly sampled data points added/removed\n",
    "        return df.sample(count, replace=True)"
   ]
  },
  {
   "cell_type": "code",
   "execution_count": 18,
   "metadata": {},
   "outputs": [
    {
     "name": "stdout",
     "output_type": "stream",
     "text": [
      "Random sampling verification:\n",
      "1.0    2164\n",
      "2.0    2164\n",
      "3.0    2164\n",
      "4.0    2164\n",
      "5.0    2164\n",
      "Name: stars, dtype: int64\n"
     ]
    },
    {
     "data": {
      "image/png": "[encoded data removed]",
      "text/plain": [
       "<Figure size 432x288 with 1 Axes>"
      ]
     },
     "metadata": {
      "needs_background": "light"
     },
     "output_type": "display_data"
    }
   ],
   "source": [
    "# Star rating count\n",
    "count_stars_5, count_stars_4, count_stars_3, count_stars_2, count_stars_1 = review_stars['stars'].value_counts().\\\n",
    "    sort_index(ascending=False)\n",
    "\n",
    "# determine how many samples for each category (this can be adjusted)\n",
    "count = np.max([count_stars_5, count_stars_4, count_stars_3, count_stars_2, count_stars_1]).\\\n",
    "    round().astype(int)\n",
    "\n",
    "# create over/under sampling dataframes\n",
    "df_stars_5_over = CreateSamplingDF(df_stars_5, count)\n",
    "df_stars_4_over = CreateSamplingDF(df_stars_4, count)\n",
    "df_stars_3_over = CreateSamplingDF(df_stars_3, count)\n",
    "df_stars_2_over = CreateSamplingDF(df_stars_2, count)\n",
    "df_stars_1_over = CreateSamplingDF(df_stars_1, count)\n",
    "\n",
    "df_stars_sampling = pd.concat([df_stars_5_over, df_stars_4_over, df_stars_3_over,\n",
    "                          df_stars_2_over, df_stars_1_over], axis=0)\n",
    "\n",
    "print('Random sampling verification:')\n",
    "print(df_stars_sampling.stars.value_counts())\n",
    "\n",
    "df_stars_sampling.stars.value_counts().plot(kind='bar', title='Review Count Per Star Rating\\n(after resampling)');\n",
    "\n",
    "review_stars_sampled = df_stars_sampling"
   ]
  },
  {
   "cell_type": "markdown",
   "metadata": {},
   "source": [
    "<div class=\"alert alert-block alert-danger\">\n",
    "\n",
    "## USER-SPECIFIC TOP CATEGORIES\n",
    "</div>"
   ]
  },
  {
   "cell_type": "markdown",
   "metadata": {},
   "source": [
    "## Get User's Top Categories"
   ]
  },
  {
   "cell_type": "code",
   "execution_count": 19,
   "metadata": {},
   "outputs": [],
   "source": [
    "user_business = df_review[df_review['user_id']==user_id]['business_id'].reset_index().drop('index', axis=1)\n",
    "\n",
    "df_business_category = df_business[['business_id', 'categories']]\n",
    "\n",
    "user_business_category = user_business.join(df_business_category.set_index('business_id'), on='business_id', \\\n",
    "                            how = 'inner', lsuffix = '', rsuffix = '_business')\\\n",
    "                            .reset_index().drop('index', axis=1)"
   ]
  },
  {
   "cell_type": "code",
   "execution_count": 20,
   "metadata": {},
   "outputs": [],
   "source": [
    "categories_dict_user = {}\n",
    "for row in range(user_business_category.shape[0]):\n",
    "    categories_row = user_business_category.categories[row]\n",
    "    categories_list = categories_row.strip('][').split(', ')\n",
    "    \n",
    "    for item in categories_list:\n",
    "        if item in categories_dict_user.keys():\n",
    "            categories_dict_user[item] += 1\n",
    "        else:\n",
    "            categories_dict_user[item] = 1\n",
    "\n",
    "df_categories_user = pd.DataFrame(list(categories_dict_user.items()),\n",
    "                             index = range(len(list(categories_dict_user.items()))))\n",
    "df_categories_user.columns = ['category', 'count']"
   ]
  },
  {
   "cell_type": "code",
   "execution_count": 21,
   "metadata": {},
   "outputs": [],
   "source": [
    "df_categories_user_subset = df_categories_user.sort_values(by = 'count', ascending = False).\\\n",
    "    set_index('category').head(15)"
   ]
  },
  {
   "cell_type": "code",
   "execution_count": 22,
   "metadata": {
    "scrolled": false
   },
   "outputs": [
    {
     "data": {
      "image/png": "[encoded data removed]",
      "text/plain": [
       "<Figure size 864x432 with 1 Axes>"
      ]
     },
     "metadata": {
      "needs_background": "light"
     },
     "output_type": "display_data"
    }
   ],
   "source": [
    "top_user_categories = list(df_categories_user_subset.index)\n",
    "width = list(df_categories_user_subset['count'])\n",
    "\n",
    "_ = plt.figure(figsize = (12,6))\n",
    "_ = plt.barh(y = top_user_categories[::-1], width = width[::-1])\n",
    "_ = plt.grid(linestyle = '-.', color = 'b', alpha = 0.3)\n",
    "_ = plt.show()"
   ]
  },
  {
   "cell_type": "code",
   "execution_count": 23,
   "metadata": {},
   "outputs": [
    {
     "data": {
      "text/plain": [
       "['Restaurants',\n",
       " 'Food',\n",
       " 'Chinese',\n",
       " 'Coffee & Tea',\n",
       " 'Nightlife',\n",
       " 'Bars',\n",
       " 'Japanese',\n",
       " 'Desserts',\n",
       " 'Shopping',\n",
       " 'Bakeries',\n",
       " 'Canadian (New)',\n",
       " 'Specialty Food',\n",
       " 'Cafes',\n",
       " 'Breakfast & Brunch',\n",
       " 'Italian']"
      ]
     },
     "execution_count": 23,
     "metadata": {},
     "output_type": "execute_result"
    }
   ],
   "source": [
    "top_user_categories"
   ]
  },
  {
   "cell_type": "code",
   "execution_count": 24,
   "metadata": {},
   "outputs": [],
   "source": [
    "df_reviews = review_stars_sampled.merge(df_business, left_on='business_id', right_on='business_id', \n",
    "                      suffixes=('_user', '_business'))\n",
    "\n",
    "# provide primary & secondary list of categories to look for\n",
    "category_primary = [top_user_categories[3]]\n",
    "category_secondary = []\n",
    "\n",
    "category_type = '|'.join(category_primary)\n",
    "\n",
    "df_reviews_cat = df_reviews.loc[df_reviews['categories'].str.lower().str.contains((category_type).lower())]\n",
    "\n",
    "category_type = '|'.join(category_secondary)\n",
    "\n",
    "df_reviews_cat = df_reviews_cat.loc[df_reviews['categories'].str.lower().str.contains((category_type).lower())]\n",
    "\n",
    "df = df_reviews_cat"
   ]
  },
  {
   "cell_type": "code",
   "execution_count": 25,
   "metadata": {},
   "outputs": [
    {
     "name": "stdout",
     "output_type": "stream",
     "text": [
      "893\n",
      "893\n"
     ]
    }
   ],
   "source": [
    "y = df.stars_user.values\n",
    "review_text = df.text.values\n",
    "print(len(y))\n",
    "print(review_text.shape[0])"
   ]
  },
  {
   "cell_type": "code",
   "execution_count": 26,
   "metadata": {},
   "outputs": [],
   "source": [
    "import spacy\n",
    "# spacy_nlp = spacy.load(\"en_core_web_sm\")\n",
    "import en_core_web_sm\n",
    "nlp = en_core_web_sm.load()\n",
    "from unicodedata import normalize\n",
    "\n",
    "# Define default stopwords list\n",
    "stoplist = spacy.lang.en.stop_words.STOP_WORDS\n",
    "\n",
    "def replace_ptbr_char_by_word(word):\n",
    "  # Will remove the encode token by token\n",
    "    word = str(word)\n",
    "    word = normalize('NFKD', word).encode('ASCII','ignore').decode('ASCII')\n",
    "    return word\n",
    "\n",
    "def remove_pt_br_char_by_text(text):\n",
    "  # Will remove the encode using the entire text\n",
    "    text = str(text)\n",
    "    text = \" \".join(replace_ptbr_char_by_word(word) for word in text.split() if word not in stoplist)\n",
    "    return text\n",
    "\n",
    "for i in range(0,review_text.shape[0]):\n",
    "    review_text[i] = remove_pt_br_char_by_text(review_text[i])"
   ]
  },
  {
   "cell_type": "code",
   "execution_count": 27,
   "metadata": {},
   "outputs": [],
   "source": [
    "# Import necessary packages\n",
    "from sklearn.pipeline import Pipeline\n",
    "from sklearn.model_selection import train_test_split\n",
    "\n",
    "from sklearn.feature_extraction import text\n",
    "\n",
    "from sklearn.feature_extraction.text import CountVectorizer\n",
    "from sklearn.preprocessing import StandardScaler\n",
    "from sklearn.decomposition import TruncatedSVD\n",
    "\n",
    "from sklearn.ensemble import RandomForestClassifier\n",
    "\n",
    "# Import classifiers\n",
    "from sklearn.linear_model import LogisticRegression\n",
    "from sklearn.multiclass import OneVsRestClassifier\n",
    "\n",
    "import nltk.stem\n",
    "from textblob import TextBlob\n",
    "\n",
    "# Use TextBlob\n",
    "def textblob_tokenizer(str_input):\n",
    "    blob = TextBlob(str_input.lower())\n",
    "    tokens = blob.words\n",
    "    words = [token.stem() for token in tokens]\n",
    "    return words\n",
    "\n",
    "# Create training and test sets\n",
    "X_train, X_test, y_train, y_test = train_test_split(review_text, y, test_size = 0.4, random_state=42)\n",
    "\n",
    "TOKENS_ALPHANUMERIC = '[A-Za-z0-9]+(?=\\\\s+)'\n",
    "\n",
    "# additional stopwords to add as a result of tokenizing\n",
    "additional_stopwords = ['a', 'an', 'the', 'it', 'they', 'them', 'and', 'are', 'but', 'for', 'was',\n",
    "                        'have', 'i', 'in', 'is', 'my', 'of', 'on', 's', 't', 'that', 'this', 'to',\n",
    "                        'with', 'you', 'as', 'at', 'be', 'get', 'had', 'if', 'just', 'me', 'not', \n",
    "                        'one', 'or', 'place', 'so', 'their', 'there', 'from', 'go', 'here', 'out', \n",
    "                        'time', 'up', 'we', 'were', 'when', 'your', 'about', 'been', 'can', 'm', \n",
    "                        've', 'what', 'all', 'back', 'because', 'by', 'do', 'has', 'will', 'would',\n",
    "                        'she', 'some', 'which', 'also', 'am', 'come', 'how', 'know', 'made', 'make',\n",
    "                        're', 'than', 'way', 'who', 'he', 'after', 'then', 'while', 'her', 'zero',\n",
    "                        'york', 'yonge', 'yet', 'yelp', 'yelling', 'years ago', 'years', 'year',\n",
    "                        'yeah', 'ya', 'y', 'x', 'wrote', 'written', 'writing review', 'writing',\n",
    "                        'write review', 'write', 'world', 'works', 'working', 'workers', 'worker',\n",
    "                        'worked', 'words', 'word', 'wooden', 'wood', 'wants', 'wanting', 'ago', 'ha',\n",
    "                        'review', 'wa', 'want', 'work', 'le', 'u', ', ``', ', .', ', ,', \", 've\", \", 's\",\n",
    "                        \", 're\", \", 'm\", \", 'll\", \", 'd\", ',', ') .', ') ,', ')', '(', \"'ve .\", \"'ve\",\n",
    "                        'ha', 'le', 'u', 'wa', 'abov', 'afterward', 'alon', 'alreadi', 'alway', 'ani', \n",
    "                        'anoth', 'anyon', 'anyth', 'anywher', 'becam', 'becaus', 'becom', 'befor', 'besid',\n",
    "                        'dure', 'els', 'elsewher', 'empti', 'everi', 'everyon', 'everyth', \n",
    "                        'everywher', 'fifti', 'formerli', 'forti', 'ha', 'henc', 'hereaft', 'herebi', 'hi', \n",
    "                        'howev', 'hundr', 'inde', 'latterli', 'mani', 'meanwhil', 'moreov', 'mostli', 'nobodi', \n",
    "                        'noon', 'noth', 'nowher', 'onc', 'onli', 'otherwis', 'ourselv', 'perhap', 'pleas', \n",
    "                        'sinc', 'sincer', 'sixti', 'someon', 'someth', 'sometim', 'somewher',\n",
    "                        'thenc', 'thereaft', 'therebi', 'therefor', 'thi', 'thu', 'togeth', 'twelv', 'twenti',\n",
    "                        'wa', 'whatev', 'whenc', 'whenev', 'wherea', 'whereaft', 'wherebi', 'wherev', \n",
    "                        'whi', 'yourselv',  'themselv', \"'d\", \"'ll\", \"'m\", \"'re\", \"'s\", 'anywh', 'becau', \n",
    "                        'cri', 'describ', 'el', 'elsewh', 'everywh', 'ind', 'otherwi', 'plea', 'seriou', \n",
    "                        'sever', 'somewh', 'veri', 'yell', 'yong', \"n't\"]\n",
    "                       \n",
    "stopwords = text.ENGLISH_STOP_WORDS.union(additional_stopwords)\n",
    "\n",
    "# Instantiate Pipeline object: pl\n",
    "pl = Pipeline([\n",
    "        \n",
    "        ('vec', CountVectorizer(ngram_range=(1,2),\n",
    "                                analyzer='word',\n",
    "                                token_pattern=TOKENS_ALPHANUMERIC,\n",
    "                                stop_words=stopwords,#'english',\n",
    "                                lowercase=True,\n",
    "                                tokenizer=textblob_tokenizer\n",
    "                               )),\n",
    "        ('standard', StandardScaler(with_mean=False)),\n",
    "        ('trunc', TruncatedSVD(n_components=500, n_iter=10)),\n",
    "#         ('Random forest', RandomForestClassifier())\n",
    "        ('clf', OneVsRestClassifier(LogisticRegression(solver='lbfgs', max_iter=500)))\n",
    "    ])"
   ]
  },
  {
   "cell_type": "code",
   "execution_count": 28,
   "metadata": {},
   "outputs": [
    {
     "name": "stdout",
     "output_type": "stream",
     "text": [
      "\n",
      "Training Accuracy:  1.0\n",
      "\n",
      "Testing Accuracy:  0.8687150837988827\n"
     ]
    }
   ],
   "source": [
    "# Fit to the training data\n",
    "pl.fit(X_train, y_train)\n",
    "\n",
    "# Compute and print accuracy\n",
    "accuracy = pl.score(X_train, y_train)\n",
    "print(\"\\nTraining Accuracy: \", accuracy)\n",
    "\n",
    "y_pred = pl.predict(X_test)\n",
    "\n",
    "# Compute and print accuracy\n",
    "accuracy = pl.score(X_test, y_test)\n",
    "print(\"\\nTesting Accuracy: \", accuracy)"
   ]
  },
  {
   "cell_type": "code",
   "execution_count": 29,
   "metadata": {},
   "outputs": [
    {
     "name": "stdout",
     "output_type": "stream",
     "text": [
      "              precision    recall  f1-score   support\n",
      "\n",
      "         1.0       1.00      1.00      1.00        47\n",
      "         2.0       1.00      0.97      0.99        38\n",
      "         3.0       0.73      0.72      0.73        85\n",
      "         4.0       0.80      0.82      0.81       121\n",
      "         5.0       1.00      1.00      1.00        67\n",
      "\n",
      "    accuracy                           0.87       358\n",
      "   macro avg       0.91      0.90      0.90       358\n",
      "weighted avg       0.87      0.87      0.87       358\n",
      "\n",
      "[[47  0  0  0  0]\n",
      " [ 0 37  0  1  0]\n",
      " [ 0  0 61 24  0]\n",
      " [ 0  0 22 99  0]\n",
      " [ 0  0  0  0 67]]\n"
     ]
    }
   ],
   "source": [
    "# Import necessary modules\n",
    "from sklearn.metrics import classification_report, confusion_matrix\n",
    "\n",
    "# Generate the confusion matrix and classification report\n",
    "class_report = classification_report(y_test, y_pred)\n",
    "print(class_report)\n",
    "conf_mat = confusion_matrix(y_test, y_pred)\n",
    "print(conf_mat)"
   ]
  },
  {
   "cell_type": "code",
   "execution_count": 30,
   "metadata": {},
   "outputs": [
    {
     "data": {
      "image/png": "[encoded data removed]",
      "text/plain": [
       "<Figure size 432x288 with 2 Axes>"
      ]
     },
     "metadata": {
      "needs_background": "light"
     },
     "output_type": "display_data"
    }
   ],
   "source": [
    "# Confusion matrix\n",
    "\n",
    "labels = ['Star 1', 'Star 2', 'Star 3', 'Star 4', 'Star 5']\n",
    "fig = plt.figure()\n",
    "ax = fig.add_subplot(111)\n",
    "cax = ax.matshow(conf_mat, cmap=plt.cm.Blues)\n",
    "fig.colorbar(cax)\n",
    "ax.set_xticklabels([''] + labels)\n",
    "ax.set_yticklabels([''] + labels)\n",
    "plt.xlabel('Predicted')\n",
    "plt.ylabel('Expected')\n",
    "plt.show()"
   ]
  },
  {
   "cell_type": "code",
   "execution_count": 31,
   "metadata": {},
   "outputs": [
    {
     "name": "stdout",
     "output_type": "stream",
     "text": [
      "1. 60 medium\n",
      "2. 15 50\n",
      "3. cost\n",
      "4. 3 winterlici\n",
      "5. 3 pancak\n",
      "6. 10 cafe\n",
      "7. 12 love\n",
      "8. advic tempt\n",
      "9. lazi afternoon\n",
      "10. 4.50 expect\n",
      "11. 3.59\n",
      "12. 8.90 http\n",
      "13. 28\n",
      "14. 8 pm\n",
      "15. 8 pm\n",
      "16. 12:30\n",
      "17. 7.29\n",
      "18. fairground\n",
      "19. live area\n",
      "20. 3.75 big\n"
     ]
    }
   ],
   "source": [
    "# get top features used by the machine learning model\n",
    "\n",
    "features = pl.named_steps.trunc\n",
    "\n",
    "principle_component = pd.DataFrame(features.components_).transpose()\n",
    "\n",
    "n_components = 20\n",
    "\n",
    "for i in range(0,n_components):\n",
    "    index_max = principle_component[i].idxmax()\n",
    "    top_features = pl.named_steps['vec'].get_feature_names()\n",
    "    len(top_features)\n",
    "    print(str(i+1) + '.', top_features[index_max])"
   ]
  },
  {
   "cell_type": "code",
   "execution_count": 32,
   "metadata": {},
   "outputs": [],
   "source": [
    "# Get list of reviews not from user of interest\n",
    "\n",
    "current_user = list_users[user_rank]\n",
    "\n",
    "non_user_reviews = df_review[df_review['user_id']!=current_user]"
   ]
  },
  {
   "cell_type": "code",
   "execution_count": 33,
   "metadata": {},
   "outputs": [],
   "source": [
    "list_of_cities = list(df_business['city'].value_counts(ascending=False).index)"
   ]
  },
  {
   "cell_type": "code",
   "execution_count": 34,
   "metadata": {},
   "outputs": [
    {
     "name": "stdout",
     "output_type": "stream",
     "text": [
      "Toronto\n"
     ]
    }
   ],
   "source": [
    "# city of interest\n",
    "\n",
    "city = list_of_cities[2]\n",
    "print(city)\n",
    "\n",
    "# Get names of indexes for which column is_open has value 0\n",
    "indexNames = df_business[(df_business['is_open'] == 0) | (df_business['city'].str.lower() != city.lower())].index"
   ]
  },
  {
   "cell_type": "code",
   "execution_count": 35,
   "metadata": {},
   "outputs": [
    {
     "name": "stdout",
     "output_type": "stream",
     "text": [
      "10000\n"
     ]
    }
   ],
   "source": [
    "df_reviews = non_user_reviews.merge(df_business.drop(indexNames), left_on='business_id', right_on='business_id', \n",
    "                      suffixes=('_user', '_business'))\n",
    "\n",
    "category_type = '|'.join(category_primary)\n",
    "\n",
    "df_reviews_cat = df_reviews.loc[df_reviews['categories'].str.lower().str.contains((category_type).lower())]\n",
    "\n",
    "category_type = '|'.join(category_secondary)\n",
    "\n",
    "df_reviews_cat = df_reviews_cat.loc[df_reviews['categories'].str.lower().str.contains((category_type).lower())]\n",
    "\n",
    "df = df_reviews_cat\n",
    "\n",
    "num_predict = 10000\n",
    "\n",
    "y_non_user = df.stars_user.values[:num_predict]\n",
    "review_text_from_others = df.text.values[:num_predict]\n",
    "print(review_text_from_others.shape[0])"
   ]
  },
  {
   "cell_type": "code",
   "execution_count": 36,
   "metadata": {},
   "outputs": [],
   "source": [
    "# Yelp rating predictions for reviews from other users for other businesses\n",
    "y_recommend = pl.predict(review_text_from_others)"
   ]
  },
  {
   "cell_type": "code",
   "execution_count": 37,
   "metadata": {},
   "outputs": [
    {
     "data": {
      "image/png": "[encoded data removed]",
      "text/plain": [
       "<Figure size 432x288 with 1 Axes>"
      ]
     },
     "metadata": {
      "needs_background": "light"
     },
     "output_type": "display_data"
    },
    {
     "name": "stdout",
     "output_type": "stream",
     "text": [
      "4.0    5301\n",
      "3.0    4698\n",
      "2.0       1\n",
      "dtype: int64\n"
     ]
    }
   ],
   "source": [
    "pd.Series(y_recommend).value_counts(normalize=True).sort_index().plot.\\\n",
    "    bar(x='Star Rating', y='Percentage', rot=0, grid=True)\n",
    "plt.show()\n",
    "\n",
    "print(pd.Series(y_recommend).value_counts())"
   ]
  },
  {
   "cell_type": "code",
   "execution_count": 38,
   "metadata": {},
   "outputs": [
    {
     "name": "stdout",
     "output_type": "stream",
     "text": [
      "              precision    recall  f1-score   support\n",
      "\n",
      "         1.0       0.00      0.00      0.00       659\n",
      "         2.0       0.00      0.00      0.00       774\n",
      "         3.0       0.19      0.57      0.28      1519\n",
      "         4.0       0.35      0.54      0.42      3447\n",
      "         5.0       0.00      0.00      0.00      3601\n",
      "\n",
      "    accuracy                           0.27     10000\n",
      "   macro avg       0.11      0.22      0.14     10000\n",
      "weighted avg       0.15      0.27      0.19     10000\n",
      "\n",
      "[[   0    0  418  241    0]\n",
      " [   0    0  440  334    0]\n",
      " [   0    0  872  647    0]\n",
      " [   0    0 1590 1857    0]\n",
      " [   0    1 1378 2222    0]]\n"
     ]
    },
    {
     "name": "stderr",
     "output_type": "stream",
     "text": [
      "/Users/jeromegonzaga/opt/anaconda3/lib/python3.7/site-packages/sklearn/metrics/_classification.py:1272: UndefinedMetricWarning: Precision and F-score are ill-defined and being set to 0.0 in labels with no predicted samples. Use `zero_division` parameter to control this behavior.\n",
      "  _warn_prf(average, modifier, msg_start, len(result))\n"
     ]
    }
   ],
   "source": [
    "# Import necessary modules\n",
    "from sklearn.metrics import classification_report, confusion_matrix\n",
    "\n",
    "# Generate the confusion matrix and classification report\n",
    "class_report = classification_report(y_non_user, y_recommend)\n",
    "print(class_report)\n",
    "conf_mat = confusion_matrix(y_non_user, y_recommend)\n",
    "print(conf_mat)"
   ]
  },
  {
   "cell_type": "code",
   "execution_count": 39,
   "metadata": {},
   "outputs": [
    {
     "data": {
      "image/png": "[encoded data removed]",
      "text/plain": [
       "<Figure size 432x288 with 2 Axes>"
      ]
     },
     "metadata": {
      "needs_background": "light"
     },
     "output_type": "display_data"
    }
   ],
   "source": [
    "# Confusion matrix\n",
    "\n",
    "labels = ['Star 1', 'Star 2', 'Star 3', 'Star 4', 'Star 5']\n",
    "fig = plt.figure()\n",
    "ax = fig.add_subplot(111)\n",
    "cax = ax.matshow(conf_mat, cmap=plt.cm.Blues)\n",
    "fig.colorbar(cax)\n",
    "ax.set_xticklabels([''] + labels)\n",
    "ax.set_yticklabels([''] + labels)\n",
    "plt.xlabel('Predicted')\n",
    "plt.ylabel('Expected')\n",
    "plt.show()"
   ]
  },
  {
   "cell_type": "raw",
   "metadata": {},
   "source": [
    "pd.Series(np.abs((y_non_user-y_recommend))).value_counts(normalize=True)"
   ]
  },
  {
   "cell_type": "code",
   "execution_count": 40,
   "metadata": {
    "scrolled": false
   },
   "outputs": [
    {
     "data": {
      "text/html": [
       "<div>\n",
       "<style scoped>\n",
       "    .dataframe tbody tr th:only-of-type {\n",
       "        vertical-align: middle;\n",
       "    }\n",
       "\n",
       "    .dataframe tbody tr th {\n",
       "        vertical-align: top;\n",
       "    }\n",
       "\n",
       "    .dataframe thead th {\n",
       "        text-align: right;\n",
       "    }\n",
       "</style>\n",
       "<table border=\"1\" class=\"dataframe\">\n",
       "  <thead>\n",
       "    <tr style=\"text-align: right;\">\n",
       "      <th></th>\n",
       "      <th></th>\n",
       "      <th>stars_business</th>\n",
       "      <th>review_count</th>\n",
       "    </tr>\n",
       "    <tr>\n",
       "      <th>business_id</th>\n",
       "      <th>name</th>\n",
       "      <th></th>\n",
       "      <th></th>\n",
       "    </tr>\n",
       "  </thead>\n",
       "  <tbody>\n",
       "    <tr>\n",
       "      <td>4CDBiS3Q1JPk4WicswFPnA</td>\n",
       "      <td>De Floured</td>\n",
       "      <td>5.0</td>\n",
       "      <td>8</td>\n",
       "    </tr>\n",
       "    <tr>\n",
       "      <td>KMKZ2HK91lSySfs3C0a21Q</td>\n",
       "      <td>Teappuccino</td>\n",
       "      <td>5.0</td>\n",
       "      <td>7</td>\n",
       "    </tr>\n",
       "    <tr>\n",
       "      <td>yw2zZTvznwRsk86ZMKgP-A</td>\n",
       "      <td>Pilot Coffee Roasters</td>\n",
       "      <td>5.0</td>\n",
       "      <td>6</td>\n",
       "    </tr>\n",
       "    <tr>\n",
       "      <td>YmluvmfqkfE8tZ33fpKGWw</td>\n",
       "      <td>Starbucks</td>\n",
       "      <td>5.0</td>\n",
       "      <td>4</td>\n",
       "    </tr>\n",
       "    <tr>\n",
       "      <td>HC4PNtNOuj_wPzg1MJeldQ</td>\n",
       "      <td>Tim Hortons</td>\n",
       "      <td>5.0</td>\n",
       "      <td>3</td>\n",
       "    </tr>\n",
       "    <tr>\n",
       "      <td>fGdUxfeEWp9pn2sAa9rv2w</td>\n",
       "      <td>Roselle</td>\n",
       "      <td>4.5</td>\n",
       "      <td>171</td>\n",
       "    </tr>\n",
       "    <tr>\n",
       "      <td>FBd6q_qzEFixvhV3KdzvJw</td>\n",
       "      <td>Riddle Room</td>\n",
       "      <td>4.5</td>\n",
       "      <td>146</td>\n",
       "    </tr>\n",
       "    <tr>\n",
       "      <td>q0tMKr-hzS4UT0RArdZfzQ</td>\n",
       "      <td>Rooster Coffee House</td>\n",
       "      <td>4.5</td>\n",
       "      <td>141</td>\n",
       "    </tr>\n",
       "    <tr>\n",
       "      <td>TpwCjlKsdYjLsvlYhKGt4g</td>\n",
       "      <td>Almond Butterfly Cafe &amp; Bakeshop</td>\n",
       "      <td>4.5</td>\n",
       "      <td>132</td>\n",
       "    </tr>\n",
       "    <tr>\n",
       "      <td>4Jscimulh38Rq2hOgjb2Hg</td>\n",
       "      <td>Strange Love</td>\n",
       "      <td>4.5</td>\n",
       "      <td>128</td>\n",
       "    </tr>\n",
       "  </tbody>\n",
       "</table>\n",
       "</div>"
      ],
      "text/plain": [
       "                                                         stars_business  \\\n",
       "business_id            name                                               \n",
       "4CDBiS3Q1JPk4WicswFPnA De Floured                                   5.0   \n",
       "KMKZ2HK91lSySfs3C0a21Q Teappuccino                                  5.0   \n",
       "yw2zZTvznwRsk86ZMKgP-A Pilot Coffee Roasters                        5.0   \n",
       "YmluvmfqkfE8tZ33fpKGWw Starbucks                                    5.0   \n",
       "HC4PNtNOuj_wPzg1MJeldQ Tim Hortons                                  5.0   \n",
       "fGdUxfeEWp9pn2sAa9rv2w Roselle                                      4.5   \n",
       "FBd6q_qzEFixvhV3KdzvJw Riddle Room                                  4.5   \n",
       "q0tMKr-hzS4UT0RArdZfzQ Rooster Coffee House                         4.5   \n",
       "TpwCjlKsdYjLsvlYhKGt4g Almond Butterfly Cafe & Bakeshop             4.5   \n",
       "4Jscimulh38Rq2hOgjb2Hg Strange Love                                 4.5   \n",
       "\n",
       "                                                         review_count  \n",
       "business_id            name                                            \n",
       "4CDBiS3Q1JPk4WicswFPnA De Floured                                   8  \n",
       "KMKZ2HK91lSySfs3C0a21Q Teappuccino                                  7  \n",
       "yw2zZTvznwRsk86ZMKgP-A Pilot Coffee Roasters                        6  \n",
       "YmluvmfqkfE8tZ33fpKGWw Starbucks                                    4  \n",
       "HC4PNtNOuj_wPzg1MJeldQ Tim Hortons                                  3  \n",
       "fGdUxfeEWp9pn2sAa9rv2w Roselle                                    171  \n",
       "FBd6q_qzEFixvhV3KdzvJw Riddle Room                                146  \n",
       "q0tMKr-hzS4UT0RArdZfzQ Rooster Coffee House                       141  \n",
       "TpwCjlKsdYjLsvlYhKGt4g Almond Butterfly Cafe & Bakeshop           132  \n",
       "4Jscimulh38Rq2hOgjb2Hg Strange Love                               128  "
      ]
     },
     "execution_count": 40,
     "metadata": {},
     "output_type": "execute_result"
    }
   ],
   "source": [
    "# List of recommended businesses for user to visit\n",
    "\n",
    "from more_itertools import locate\n",
    "predictions = y_recommend.tolist()\n",
    "\n",
    "rating_search = 4 # rating of predicted reviews to search for\n",
    "\n",
    "indexPosList = list(locate(predictions, lambda a: a == rating_search))\n",
    "# indexPosList\n",
    "\n",
    "df_reviews_cat.iloc[indexPosList].reset_index().drop(['index', 'Unnamed: 0'], axis=1)\\\n",
    "    [['business_id', 'name', 'stars_business', 'review_count']].groupby(['business_id', 'name']).mean().\\\n",
    "    sort_values(by=['stars_business','review_count'], ascending=[False, False]).head(10)"
   ]
  }
 ],
 "metadata": {
  "kernelspec": {
   "display_name": "Python 3",
   "language": "python",
   "name": "python3"
  },
  "language_info": {
   "codemirror_mode": {
    "name": "ipython",
    "version": 3
   },
   "file_extension": ".py",
   "mimetype": "text/x-python",
   "name": "python",
   "nbconvert_exporter": "python",
   "pygments_lexer": "ipython3",
   "version": "3.7.4"
  }
 },
 "nbformat": 4,
 "nbformat_minor": 2
}
